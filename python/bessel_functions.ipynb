{
 "cells": [
  {
   "cell_type": "code",
   "execution_count": 38,
   "metadata": {},
   "outputs": [],
   "source": [
    "import numpy as np\n",
    "import scipy as sp\n",
    "from scipy import special"
   ]
  },
  {
   "cell_type": "code",
   "execution_count": 39,
   "metadata": {},
   "outputs": [
    {
     "name": "stdout",
     "output_type": "stream",
     "text": [
      "bessel(0.5 , 2.356) = 0.3676392489283032\n"
     ]
    }
   ],
   "source": [
    "nu = 0.5\n",
    "x = 2.356\n",
    "bess = sp.special.jv(nu, x)\n",
    "print(\"bessel({} , {}) = {}\".format(nu, x, bess))"
   ]
  },
  {
   "cell_type": "code",
   "execution_count": 40,
   "metadata": {},
   "outputs": [
    {
     "name": "stdout",
     "output_type": "stream",
     "text": [
      "bessel(-0.5 , 2.356) = -0.3674962722775811\n"
     ]
    }
   ],
   "source": [
    "nu = -0.5\n",
    "x = 2.356\n",
    "bess = sp.special.jv(nu, x)\n",
    "print(\"bessel({} , {}) = {}\".format(nu, x, bess))"
   ]
  },
  {
   "cell_type": "code",
   "execution_count": 41,
   "metadata": {},
   "outputs": [],
   "source": [
    "def generalized_bessel(nu, x):\n",
    "    if (nu > 0):\n",
    "        return sp.special.jv(nu, x)\n",
    "    else:\n",
    "        return generalized_bessel(-nu, x) * np.cos(np.pi * (-nu)) - special.yv(-nu, x) * np.sin(np.pi * (-nu))\n",
    "    "
   ]
  },
  {
   "cell_type": "code",
   "execution_count": 42,
   "metadata": {},
   "outputs": [
    {
     "name": "stdout",
     "output_type": "stream",
     "text": [
      "my_bessel(-0.5 , 1.356) = 0.14604691078104362\n",
      "sp_bessel(-0.5 , 1.356) = 0.1460469107810436\n",
      "diff: 2.7755575615628914e-17\n"
     ]
    }
   ],
   "source": [
    "nu = -0.5\n",
    "x = 1.356\n",
    "\n",
    "my_bs = generalized_bessel(nu, x)\n",
    "sp_bs = sp.special.jv(nu, x)\n",
    "print(\"my_bessel({} , {}) = {}\".format(nu, x, my_bs))\n",
    "print(\"sp_bessel({} , {}) = {}\".format(nu, x, sp_bs))\n",
    "print(\"diff: {}\".format(my_bs - sp_bs))"
   ]
  },
  {
   "cell_type": "code",
   "execution_count": 44,
   "metadata": {},
   "outputs": [
    {
     "name": "stdout",
     "output_type": "stream",
     "text": [
      "bessel(-1 , 2.356) = -0.3000718346688748\n",
      "bessel(-1 , 2.356) = nan\n",
      "Diff: nan\n"
     ]
    }
   ],
   "source": [
    "def generalized_bessel_spherical(nu, x):\n",
    "    return np.sqrt(np.pi / (2 * x)) * sp.special.jv(nu + 0.5, x)\n",
    "\n",
    "    \n",
    "nu = -1\n",
    "x = 2.356\n",
    "bess_mine = generalized_bessel_spherical(nu, x)\n",
    "bess_sp = sp.special.spherical_jn(nu, x)\n",
    "\n",
    "print(\"bessel({} , {}) = {}\".format(nu, x, bess_mine))\n",
    "print(\"bessel({} , {}) = {}\".format(nu, x, bess_sp))\n",
    "print(\"Diff: {}\".format(bess_mine - bess_sp))      \n",
    "        "
   ]
  },
  {
   "cell_type": "code",
   "execution_count": 43,
   "metadata": {},
   "outputs": [
    {
     "data": {
      "text/plain": [
       "-0.5665116833422654"
      ]
     },
     "execution_count": 43,
     "metadata": {},
     "output_type": "execute_result"
    }
   ],
   "source": []
  },
  {
   "cell_type": "code",
   "execution_count": null,
   "metadata": {},
   "outputs": [],
   "source": []
  }
 ],
 "metadata": {
  "kernelspec": {
   "display_name": "Python 3.8.12 ('base')",
   "language": "python",
   "name": "python3"
  },
  "language_info": {
   "codemirror_mode": {
    "name": "ipython",
    "version": 3
   },
   "file_extension": ".py",
   "mimetype": "text/x-python",
   "name": "python",
   "nbconvert_exporter": "python",
   "pygments_lexer": "ipython3",
   "version": "3.8.12"
  },
  "orig_nbformat": 4,
  "vscode": {
   "interpreter": {
    "hash": "4b4a56d5ef8b4286ff93eb88683cdca628821376dc55dff168258c1f2d95891b"
   }
  }
 },
 "nbformat": 4,
 "nbformat_minor": 2
}
